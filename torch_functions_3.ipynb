{
 "cells": [
  {
   "cell_type": "code",
   "execution_count": 10,
   "id": "3f75df40-5020-43d8-854d-3ba498713866",
   "metadata": {},
   "outputs": [],
   "source": [
    "import torch\n",
    "import torch.nn as nn\n",
    "import torch.nn.functional as F"
   ]
  },
  {
   "cell_type": "code",
   "execution_count": 15,
   "id": "cf485469-b833-44db-b1d7-8a48f396b849",
   "metadata": {},
   "outputs": [
    {
     "name": "stdout",
     "output_type": "stream",
     "text": [
      "tensor([0.])\n"
     ]
    }
   ],
   "source": [
    "# Define the input tensor\n",
    "x = torch.tensor([-0.05], dtype=torch.float32)\n",
    "\n",
    "# Create an instance of the ReLU activation function\n",
    "relu = nn.ReLU()\n",
    "\n",
    "# Apply the ReLU activation function to the tensor x\n",
    "y = relu(x)\n",
    "\n",
    "# Print the output\n",
    "print(y)"
   ]
  },
  {
   "cell_type": "code",
   "execution_count": 11,
   "id": "c54bf341-fe9c-47a3-90c9-7e660cb87f9e",
   "metadata": {},
   "outputs": [
    {
     "name": "stdout",
     "output_type": "stream",
     "text": [
      "tensor([0.4875])\n"
     ]
    }
   ],
   "source": [
    "x = torch.tensor([-0.05], dtype=torch.float32)\n",
    "y = F.sigmoid(x)\n",
    "\n",
    "print(y)"
   ]
  },
  {
   "cell_type": "code",
   "execution_count": 12,
   "id": "c82f0d78-b3e1-4ea9-bf8d-5ef22aa76f25",
   "metadata": {},
   "outputs": [
    {
     "name": "stdout",
     "output_type": "stream",
     "text": [
      "tensor([-0.0500])\n"
     ]
    }
   ],
   "source": [
    "x = torch.tensor([-0.05], dtype=torch.float32)\n",
    "y = F.tanh(x)\n",
    "\n",
    "print(y)"
   ]
  },
  {
   "cell_type": "code",
   "execution_count": 14,
   "id": "a1e341b1-d5de-43c3-9d85-3b8e5bd82a6f",
   "metadata": {},
   "outputs": [
    {
     "name": "stdout",
     "output_type": "stream",
     "text": [
      "tensor([-0.0005])\n"
     ]
    }
   ],
   "source": [
    "# Define the input tensor\n",
    "x = torch.tensor([-0.05], dtype=torch.float32)\n",
    "\n",
    "# Create an instance of the ReLU activation function\n",
    "lrelu = nn.LeakyReLU()\n",
    "\n",
    "# Apply the ReLU activation function to the tensor x\n",
    "y = lrelu(x)\n",
    "\n",
    "# Print the output\n",
    "print(y)"
   ]
  },
  {
   "cell_type": "code",
   "execution_count": null,
   "id": "e73a083d-fc7c-4f83-ba85-370cce32ddee",
   "metadata": {},
   "outputs": [],
   "source": []
  }
 ],
 "metadata": {
  "kernelspec": {
   "display_name": "cuda-gpt",
   "language": "python",
   "name": "cuda"
  },
  "language_info": {
   "codemirror_mode": {
    "name": "ipython",
    "version": 3
   },
   "file_extension": ".py",
   "mimetype": "text/x-python",
   "name": "python",
   "nbconvert_exporter": "python",
   "pygments_lexer": "ipython3",
   "version": "3.10.13"
  }
 },
 "nbformat": 4,
 "nbformat_minor": 5
}
